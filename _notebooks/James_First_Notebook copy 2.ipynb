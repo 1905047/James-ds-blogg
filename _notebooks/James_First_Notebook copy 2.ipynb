
   "cell_type": "markdown",
   "metadata": {},
   "source": [
    "# What are my Quizes\n",
    "\n",
    "It will be 3 quizes an easy, medium, and hard quiz. each quiz will have 5 questions. Every time you get a question wrong it brings you to a failure screen witch will let you return to the home screen. If you get all of the questions correct than it will bring you to a sucess screen.\n",
    "\n",
    "Easy Questions:\n",
    "What is the greatest movie of all time\n",
    "Who played penywise in IT\n",
    "What hotel did they stay at in the Hangover\n",
    "What is the greatest action movie of all time\n",
    "\n",
    "Medium Questions:\n",
    "What is the most iconic ALfred Hitchcock movie\n",
    "Who played Darth Vader and Mufasa\n",
    "What year did Pulp Fiction come out\n",
    "What role is Tom Hanks most known for\n",
    "What was Walt Disneys first orginal player\n",
    "\n",
    "Hard Questions:\n",
    "What is Keanu Reeves most iconic for\n",
    "Who won a an Oscar for playing Freddie Mercury\n",
    "How many actors have played Spiderman\n",
    "What was the first Disney movie after Walt died\n",
    "How many movies has Christopher Nolan made\n"
   ]
  },
  {
   "cell_type": "markdown",
   "metadata": {},
   "source": [
    "## How will I go about this\n",
    "\n",
    "For every question there will be one right answer that brings you to the next question. For the wrong questions it will bring you to a failiure creen witch will allow the user to return to the home screen. When the user gets all of the questions correct it will bring them to a winner screen witch will allow them to return to the home screen."
   ]
  }
 ],
 "metadata": {
  "kernelspec": {
   "display_name": "Python 2.7.18 64-bit",
   "language": "python",
   "name": "python3"
  },
  "language_info": {
   "codemirror_mode": {
    "name": "ipython",
    "version": 3
   },
   "file_extension": ".py",
   "mimetype": "text/x-python",
   "name": "python",
   "nbconvert_exporter": "python",
   "pygments_lexer": "ipython3",
   "version": "2.7.18"
  },
  "varInspector": {
   "cols": {
    "lenName": 16,
    "lenType": 16,
    "lenVar": 40
   },
   "kernels_config": {
    "python": {
     "delete_cmd_postfix": "",
     "delete_cmd_prefix": "del ",
     "library": "var_list.py",
     "varRefreshCmd": "print(var_dic_list())"
    },
    "r": {
     "delete_cmd_postfix": ") ",
     "delete_cmd_prefix": "rm(",
     "library": "var_list.r",
     "varRefreshCmd": "cat(var_dic_list()) "
    }
   },
   "types_to_exclude": [
    "module",
    "function",
    "builtin_function_or_method",
    "instance",
    "_Feature"
   ],
   "window_display": false
  },
  "vscode": {
   "interpreter": {
    "hash": "949777d72b0d2535278d3dc13498b2535136f6dfe0678499012e853ee9abcab1"
   }
  }
 },
 "nbformat": 4,
 "nbformat_minor": 4
}
