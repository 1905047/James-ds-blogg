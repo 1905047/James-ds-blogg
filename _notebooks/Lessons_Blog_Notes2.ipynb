{
 "cells": [
  {
   "cell_type": "markdown",
   "metadata": {},
   "source": [
    "# Lesson Notes"
   ]
  },
  {
   "cell_type": "markdown",
   "metadata": {},
   "source": [
    "### Lesson 3:Booleans and Conditionals\n",
    "\n",
    "Booleans: a data type with 2 possible values true or false\n",
    "          can only be used in singular bits\n",
    "          \n",
    "Logical Operators: does not deal with equivlent/non-equivlent\n",
    "\n",
    "selection: evalute true or false\n",
    "algorithem: set of instructions to acomplish a specific task\n",
    "\n",
    "conditionals statements: if statements\n",
    "\n",
    "nested conditionals: if condition is met than a 2nd if else statement takes place\n",
    "\n",
    "\n"
   ]
  },
  {
   "cell_type": "code",
   "execution_count": 11,
   "metadata": {},
   "outputs": [
    {
     "name": "stdout",
     "output_type": "stream",
     "text": [
      "200\n"
     ]
    }
   ],
   "source": [
    "num1 = -200\n",
    "num2 = 400\n",
    "sum = num1 + num2\n",
    "print(sum)\n",
    "\n"
   ]
  },
  {
   "cell_type": "code",
   "execution_count": 1,
   "metadata": {},
   "outputs": [
    {
     "name": "stdout",
     "output_type": "stream",
     "text": [
      "this product is no good\n"
     ]
    }
   ],
   "source": [
    "# Here is a python template for you to use.\n",
    "expired = (\"this product is no good\")\n",
    "\n",
    "cost = 10\n",
    "\n",
    "if (expired):\n",
    "    print(\"this product is no good\")\n",
    "else:\n",
    "    print(\"cost\")\n"
   ]
  },
  {
   "cell_type": "markdown",
   "metadata": {},
   "source": [
    "### Lesson 4: Lists and Iteration\n",
    "\n",
    "Lists: a sequence of varbiles\n",
    "       used to store items in a varible \n",
    "       one of 4 collection data types in python\n",
    "\n",
    "Iteration: don't have to type out every singal thing you want to print\n",
    "            a repation of a processes like lists\n",
    "\n",
    "Loops: prints all data in list\n",
    "\n",
    "Else: does not mean do statement\n",
    "Elif: does meet do statement \n",
    "Break: start loop\n",
    "            \n",
    "2D Iteration: a list of lists\n",
    "\n"
   ]
  },
  {
   "cell_type": "code",
   "execution_count": 13,
   "metadata": {},
   "outputs": [
    {
     "name": "stdout",
     "output_type": "stream",
     "text": [
      "['football', 'hockey', 'baseball', 'basketball']\n"
     ]
    }
   ],
   "source": [
    "sports = [\"football\", \"hockey\", \"baseball\", \"basketball\"]\n",
    "\n",
    "# add \"golf\" as the 3rd element in the list\n",
    "print (sports)"
   ]
  },
  {
   "cell_type": "code",
   "execution_count": 14,
   "metadata": {},
   "outputs": [
    {
     "name": "stdout",
     "output_type": "stream",
     "text": [
      "alpha\n",
      "bravo\n",
      "charlie\n"
     ]
    }
   ],
   "source": [
    "a = ['alpha', 'bravo', 'charlie']\n",
    "\n",
    "itr = iter(a)\n",
    "print(next(itr))\n",
    "print(next(itr))\n",
    "print(next(itr))"
   ]
  },
  {
   "cell_type": "code",
   "execution_count": 2,
   "metadata": {},
   "outputs": [],
   "source": [
    "words = [\"alfa\", \"bravo\", \"charlie\", \"delta\", \"echo\", \"foxtrot\", \"golf\", \"hotel\", \"india\", \"juliett\", \"kilo\",\n",
    "\"lima\", \"mike\", \"november\", \"oscar\", \"papa\", \"quebec\", \"romeo\", \"sierra\", \"tango\", \"uniform\", \"victor\", \"whiskey\", \"xray\", \"yankee\", \"zulu\"]\n",
    "\n",
    "inp = input().lower()\n"
   ]
  },
  {
   "cell_type": "code",
   "execution_count": 10,
   "metadata": {},
   "outputs": [
    {
     "name": "stdout",
     "output_type": "stream",
     "text": [
      "['apples', 'bannas', 'kiwis', 'graps', 'pears', 'blueberrys', 'rasberrys', 'blackberrys']\n",
      "apples bannas kiwis graps pears blueberrys rasberrys blackberrys\n"
     ]
    }
   ],
   "source": [
    "fruit = [\"apples\", \"bannas\" , \"kiwis\" , \"graps\" , \"pears\" , \"blueberrys\" , \"rasberrys\" , \"blackberrys\"]\n",
    "print(fruit)\n",
    "print(*fruit)"
   ]
  },
  {
   "cell_type": "code",
   "execution_count": 11,
   "metadata": {},
   "outputs": [
    {
     "name": "stdout",
     "output_type": "stream",
     "text": [
      "apples\n",
      "bannas\n",
      "kiwis\n",
      "graps\n",
      "pears\n",
      "blueberrys\n",
      "rasberrys\n",
      "blackberrys\n"
     ]
    }
   ],
   "source": [
    "def print_matrix3(matrix):\n",
    "    for row in matrix:\n",
    "        for col in row:\n",
    "            print(col, end=\"\")\n",
    "        print()\n",
    "print_matrix3(fruit)\n",
    "    \n",
    "\n"
   ]
  },
  {
   "cell_type": "code",
   "execution_count": 2,
   "metadata": {},
   "outputs": [
    {
     "name": "stdout",
     "output_type": "stream",
     "text": [
      "['juliett', 'alfa', 'mike', 'echo', 'sierra']\n"
     ]
    }
   ],
   "source": [
    "words = [\"alfa\", \"bravo\", \"charlie\", \"delta\", \"echo\", \"foxtrot\", \"golf\", \"hotel\", \"india\", \"juliett\", \"kilo\",\n",
    "\"lima\", \"mike\", \"november\", \"oscar\", \"papa\", \"quebec\", \"romeo\", \"sierra\", \"tango\", \"uniform\", \"victor\", \"whiskey\", \"xray\", \"yankee\", \"zulu\"]\n",
    "\n",
    "phonetic = [\"juliett\" , \"alfa\" , \"mike\" , \"echo\" , \"sierra\"]\n",
    "\n",
    "print(phonetic)\n",
    "\n"
   ]
  }
 ],
 "metadata": {
  "kernelspec": {
   "display_name": "Python 3.9.12 ('base')",
   "language": "python",
   "name": "python3"
  },
  "language_info": {
   "codemirror_mode": {
    "name": "ipython",
    "version": 3
   },
   "file_extension": ".py",
   "mimetype": "text/x-python",
   "name": "python",
   "nbconvert_exporter": "python",
   "pygments_lexer": "ipython3",
   "version": "3.9.12"
  },
  "varInspector": {
   "cols": {
    "lenName": 16,
    "lenType": 16,
    "lenVar": 40
   },
   "kernels_config": {
    "python": {
     "delete_cmd_postfix": "",
     "delete_cmd_prefix": "del ",
     "library": "var_list.py",
     "varRefreshCmd": "print(var_dic_list())"
    },
    "r": {
     "delete_cmd_postfix": ") ",
     "delete_cmd_prefix": "rm(",
     "library": "var_list.r",
     "varRefreshCmd": "cat(var_dic_list()) "
    }
   },
   "types_to_exclude": [
    "module",
    "function",
    "builtin_function_or_method",
    "instance",
    "_Feature"
   ],
   "window_display": false
  },
  "vscode": {
   "interpreter": {
    "hash": "28458c3363e0f9176e2ccaa5120d29b74c0b7f76862b0de73ce3b6333bd7b675"
   }
  }
 },
 "nbformat": 4,
 "nbformat_minor": 4
}
