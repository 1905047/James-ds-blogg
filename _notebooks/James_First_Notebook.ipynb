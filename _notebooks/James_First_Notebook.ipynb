{
 "cells": [
  {
   "cell_type": "markdown",
   "metadata": {},
   "source": [
    "# James's Notebook Blog Post\n",
    "\n",
    "- toc: true \n",
    "- badges: true\n",
    "- comments: true\n",
    "- categories: [jupyter]\n",
    "- image: images/chart-preview.png"
   ]
  },
  {
   "cell_type": "markdown",
   "metadata": {},
   "source": [
    "# About this Notebook\n",
    "\n",
    "I will be using this Notebook to make posts on my blog, and I will use in tandom with my Markdown post to hold information.\n",
    "\n",
    "\n",
    "This is also an example of the capibilties of fastpages.\n"
   ]
  },
  {
   "cell_type": "markdown",
   "metadata": {},
   "source": [
    "## Things I did over the summer\n",
    "\n",
    "Here is some things I did over the Summer:\n",
    "\n",
    "```\n",
    "# \"My Summer\"\n",
    "> \"Awesome summary\"\n",
    "\n",
    "- toc: true\n",
    "- branch: master\n",
    "- badges: true\n",
    "- comments: true\n",
    "- author: Hamel Husain & Jeremy Howard\n",
    "- categories: [fastpages, jupyter]\n",
    "```\n",
    "\n",
    "- Setting `toc: true` will automatically generate a table of contents\n",
    "- Setting `badges: true` will automatically include GitHub and Google Colab links to your notebook.\n",
    "- Setting `comments: true` will enable commenting on your blog post, powered by [utterances](https://github.com/utterance/utterances).\n",
    "\n",
    "Over the summer I went of a vacations to Disney World and hung out with my friends a lot. I also had practice most of the summer but missed 2 weeks of practice due to my vacation."
   ]
  },
  {
   "cell_type": "markdown",
   "metadata": {},
   "source": [
    "## Markdown Post"
   ]
  },
  {
   "cell_type": "markdown",
   "metadata": {},
   "source": [
    "Go over to my Markdown post to learn a little more about me."
   ]
  },
  {
   "cell_type": "code",
   "execution_count": 14,
   "metadata": {},
   "outputs": [
    {
     "name": "stdout",
     "output_type": "stream",
     "text": [
      "Get team 3\n",
      "(3, 'Boston Celtics', '\\n', 'like:', 0, '\\n', 'dislike:', 13, '\\n')\n",
      "Random team\n",
      "(0, 'NBA', '\\n', 'like:', 0, '\\n', 'dislike:', 8, '\\n')\n"
     ]
    }
   ],
   "source": [
    "import random\n",
    "nbateam_data = []\n",
    "nbateam_list = [\n",
    "    \"NBA\",\n",
    "    \"Phildelphia 76ers\",\n",
    "    \"Milluake Bucks\",\n",
    "    \"Boston Celtics\",\n",
    "    \"Miami Heat\",\n",
    "    \"LA Clippers\",\n",
    "    \"LA Lakers\",\n",
    "    \"OKC Thunder\",\n",
    "    \"Brooklyn Nets\",\n",
    "    \"Minnesota Timberwolves\",\n",
    "    \"Golden State Warriors\",\n",
    "    \"Pheonix Suns\",\n",
    "    \"Chicago Bulls\",\n",
    "    \"Orlando Magic\",\n",
    "    \"Dallas Mavricks\",\n",
    "    \"San Antonio Spurs\",\n",
    "    \"Atlanta Hawks\",\n",
    "    \"Washigton Wizards\",\n",
    "    \"Housten Rockets\",\n",
    "    \"Sacramento Kings\",\n",
    "    \"Indiana Pacers\",\n",
    "    \"Utah Jazz\",\n",
    "    \"New Orleans Pelicans\",\n",
    "    \"New York Knicks\",\n",
    "    \"Memphis Grizzles\",\n",
    "    \"Portland Trailblazers\",\n",
    "    \"Toronto Raptors\",\n",
    "    \"Cleveland Cavilers\",\n",
    "    \"Denver Nuggets\",\n",
    "    \"Charolette Hornets\",\n",
    "    \"Detroit Pistons\",\n",
    "    \n",
    "]\n",
    "\n",
    "def test_text():\n",
    "    nbateam_data\n",
    "def test_team():\n",
    "    nbateam_data\n",
    "\n",
    "# Initialize nbateams\n",
    "def nbateams():\n",
    "    # setup nbateam into a dictionary with team, info, next\n",
    "    item_id = 0\n",
    "    for item in nbateam_list:\n",
    "        nbateam_data.append({\"id\": item_id, \"team\": item, \"like\": 0, \"dislike\": 0})\n",
    "        item_id += 1\n",
    "    # prime some next responses\n",
    "    for i in range(200):\n",
    "        id = getRandomnbateam()['id']\n",
    "        addnbateamlike(id)\n",
    "    # prime some next responses\n",
    "    for i in range(50):\n",
    "        id = getRandomnbateam()['id']\n",
    "        addnbateamlike(id)\n",
    "        \n",
    "# Return all jokes from nbateam_data\n",
    "def getnbateam():\n",
    "    return(nbateam_data)\n",
    "\n",
    "# nbateam getter\n",
    "def getnbateam(id):\n",
    "    return(nbateam_data[id])\n",
    "\n",
    "# Return next team from nbateam_data\n",
    "def getRandomnbateam():\n",
    "    return(random.choice(nbateam_data))\n",
    "\n",
    "# Liked nbateam\n",
    "def likednbateam():\n",
    "    best = 0\n",
    "    bestID = -1\n",
    "    for id in getnbateam():\n",
    "        if id['like'] > best:\n",
    "            best = id['like']\n",
    "            bestID = id['team']\n",
    "\n",
    "    return nbateam_data[bestID]\n",
    "    \n",
    "#  Disliked nbatam\n",
    "def dislikednbateam():\n",
    "    worst = 0\n",
    "    worstID = -1\n",
    "    for id in getnbateam():\n",
    "        if id['dislike'] > worst:\n",
    "            worst = id['dislike']\n",
    "            worstID = id['id']\n",
    "    return nbateam_data[worstID]\n",
    "\n",
    "# Add to like for requested id\n",
    "def addnbateamlike(id):\n",
    "    nbateam_data[id]['like'] = nbateam_data[id]['like'] + 1\n",
    "    return nbateam_data[id]['like']\n",
    "\n",
    "# Add to dislike for requested id\n",
    "def addnbateamlike(id):\n",
    "    nbateam_data[id]['dislike'] = nbateam_data[id]['dislike'] + 1\n",
    "    return nbateam_data[id]['dislike']\n",
    "\n",
    "# Pretty Print nbateam\n",
    "def printnbateam(nbateam):\n",
    "    print(nbateam['id'], nbateam['team'], \"\\n\", \"like:\", nbateam['like'], \"\\n\", \"dislike:\", nbateam['dislike'], \"\\n\")\n",
    "\n",
    "# Number of teams  \n",
    "def countnbateams():\n",
    "    return len(nbateam_data)\n",
    "\n",
    "# Test nbateam Model\n",
    "if __name__ == \"__main__\": \n",
    "    nbateams()  # initialize nbateam\n",
    "\n",
    "    #  most liked and most disliked\n",
    "    # best = likednbateam()\n",
    "\n",
    "    #print(\"like\", best['like'])\n",
    "    #printnbateam(best)\n",
    "    # worst = dislikednbateam()\n",
    "    #print(\"dislike\"), worst['dislike']\n",
    "    #printnbateam(worst)\n",
    "    \n",
    "    # Random team\n",
    "    \n",
    "    \n",
    "       # Random team\n",
    "    print(\"Get team 3\")\n",
    "    printnbateam(getnbateam(3))\n",
    "    \n",
    "    # Random team\n",
    "    print(\"Random team\")\n",
    "    printnbateam(getRandomnbateam())\n",
    "    \n",
    "  \n",
    " "
   ]
  },
  {
   "cell_type": "code",
   "execution_count": null,
   "metadata": {},
   "outputs": [],
   "source": [
    "# Count of teams\n",
    "    printnbateam(\"team Count: \" + str(countnbateams(30)))\n",
    "\n",
    " # An input is requested and stored in a variable\n",
    "nbateam_data = input (\"Enter a team: \")\n",
    "\n",
    "# Converts the string into an integer. If you need\n",
    "# to convert the user input into the decimal format,\n",
    "# the float() function is used instead of int()\n",
    "\n",
    "nbateam_data = int(test_text)\n",
    "\n",
    "# Prints in the console the variable as requested\n",
    "printnbateam (\"The team you entered is: \", test_team)\n",
    "\n",
    "  nbateam_data = int(input(\"Enter a team: \"))\n",
    "    \n",
    "\n",
    "\n",
    "  "
   ]
  }
 ],
 "metadata": {
  "kernelspec": {
   "display_name": "Python 2.7.18 64-bit",
   "language": "python",
   "name": "python3"
  },
  "language_info": {
   "codemirror_mode": {
    "name": "ipython",
    "version": 2
   },
   "file_extension": ".py",
   "mimetype": "text/x-python",
   "name": "python",
   "nbconvert_exporter": "python",
   "pygments_lexer": "ipython2",
   "version": "2.7.18"
  },
  "varInspector": {
   "cols": {
    "lenName": 16,
    "lenType": 16,
    "lenVar": 40
   },
   "kernels_config": {
    "python": {
     "delete_cmd_postfix": "",
     "delete_cmd_prefix": "del ",
     "library": "var_list.py",
     "varRefreshCmd": "print(var_dic_list())"
    },
    "r": {
     "delete_cmd_postfix": ") ",
     "delete_cmd_prefix": "rm(",
     "library": "var_list.r",
     "varRefreshCmd": "cat(var_dic_list()) "
    }
   },
   "types_to_exclude": [
    "module",
    "function",
    "builtin_function_or_method",
    "instance",
    "_Feature"
   ],
   "window_display": false
  },
  "vscode": {
   "interpreter": {
    "hash": "949777d72b0d2535278d3dc13498b2535136f6dfe0678499012e853ee9abcab1"
   }
  }
 },
 "nbformat": 4,
 "nbformat_minor": 4
}
