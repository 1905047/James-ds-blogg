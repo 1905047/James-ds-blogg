{
 "cells": [
  {
   "cell_type": "markdown",
   "metadata": {},
   "source": [
    "# Lesson Notes"
   ]
  },
  {
   "cell_type": "markdown",
   "metadata": {},
   "source": [
    "# Lesson 1:Varibles, Assignments , and Data Abstraction\n",
    "\n",
    "Varibles: Abstraction inside a program.\n",
    "           Label with a descriptive name.\n",
    "           Types of Data-\n",
    "               Intiger\n",
    "                Text/String\n",
    "\n",
    "Assignments: Operaters that allow progams to change value represented by varible.\n",
    "\n",
    "Data Abstraction: Method to represnt data in useful forms.\n",
    "                  -Varibles\n",
    "                  -Lists\n",
    "\n",
    "\n",
    "\n",
    "\n",
    "Homework: See lesson site.\n",
    "\n"
   ]
  },
  {
   "cell_type": "code",
   "execution_count": 13,
   "metadata": {},
   "outputs": [
    {
     "name": "stdout",
     "output_type": "stream",
     "text": [
      "(('Nightcrawler', 'American Phsyco', 'Django:Unchained', 'Joker'), ('Lou Bloom', 'Patrick Bateman', 'Django', 'Joker'), ('Jake Glynehal', 'Christain Bale', 'Jamie Fox', 'Juaqin Pheonix'))\n"
     ]
    }
   ],
   "source": [
    "movieList = (\"Nightcrawler\",\"American Phsyco\",\"Django:Unchained\",\"Joker\")\n",
    "\n",
    "charcterList = (\"Lou Bloom\",\"Patrick Bateman\",\"Django\",\"Joker\")\n",
    "\n",
    "actorList =  (\"Jake Glynehal\",\"Christain Bale\",\"Jamie Fox\",\"Juaqin Pheonix\")\n",
    "\n",
    "listList = (movieList,charcterList,actorList)\n",
    "\n",
    "print(listList)"
   ]
  },
  {
   "cell_type": "markdown",
   "metadata": {},
   "source": [
    "# Lesson#2: Algorithim and Strings\n",
    "\n",
    "Algorithim: represtend in 2 ways\n",
    "              -flow charts\n",
    "              -sudo code\n",
    "\n",
    "Arithmetic Operations:\n",
    "                      -subtraction\n",
    "                      -multiplication\n",
    "                      -divison\n",
    "                      -addition\n",
    "                      -getting the remainder\n",
    "                      ORDER OF OPERATIONs\n",
    "\n",
    "Varibles:\n",
    "sequincing is important\n",
    "useallay a numerical value\n",
    "\n",
    "Strings: collection of charcters\n",
    "         can use them for various diffrent things\n",
    "         Substring: returns charcters in string\n",
    "                    part of a part of a string\n",
    "         String Concatenation: controls inputs and outputs\n",
    "\n",
    "Homework: see lesson site\n",
    "\n"
   ]
  },
  {
   "cell_type": "code",
   "execution_count": 12,
   "metadata": {},
   "outputs": [
    {
     "name": "stdout",
     "output_type": "stream",
     "text": [
      "9\n",
      "7\n",
      "2\n"
     ]
    }
   ],
   "source": [
    "var1 = 9\n",
    "var2 = 7\n",
    "var3 = 2\n",
    "\n",
    "#var = var1 + 5\n",
    "#var2 = var1 - var3\n",
    "#var1 = var2\n",
    "#var3 = (var1 + var2) / 2\n",
    "#var2 = 6\n",
    "\n",
    "print(var1)\n",
    "print(var2)\n",
    "print(var3)"
   ]
  },
  {
   "cell_type": "code",
   "execution_count": 15,
   "metadata": {},
   "outputs": [],
   "source": [
    "Num1 = 50\n",
    "Num2 = Num1 % 9 + 15\n",
    "Num3 = Num2 / Num1 + ( Num2 * 2 )\n",
    "Num4 = Num3 + Num1 / 5 - 10\n",
    "Result = Num4 - Num2\n",
    "\n",
    "# Num1 = 50\n",
    "# Num2 = 20.55556\n",
    "# Num3 = 41.52222\n",
    "# Num4 = 41.52222\n",
    "# Resukt = 41.52222 - 20.5556 = 20.9667\n"
   ]
  },
  {
   "cell_type": "code",
   "execution_count": 16,
   "metadata": {},
   "outputs": [],
   "source": [
    "Num1 = 10\n",
    "Num2 = Num1 % 3 * 4\n",
    "Num1 = Num2\n",
    "Num3 = Num1 * 3\n",
    "Result = Num3 % 2\n",
    "\n",
    "# Num1 = 10\n",
    "# Num2 = 4\n",
    "# Num1 = 4\n",
    "# Num3 = 30\n",
    "# Result = 15"
   ]
  },
  {
   "cell_type": "code",
   "execution_count": 18,
   "metadata": {},
   "outputs": [
    {
     "name": "stdout",
     "output_type": "stream",
     "text": [
      "17\n"
     ]
    }
   ],
   "source": [
    "valueA = 4\n",
    "valueB = 90\n",
    "valueC = 17\n",
    "valueB = valueC - valueA\n",
    "valueA = valueA * 10\n",
    "if valueB > 10:\n",
    "    print(valueC)\n",
    "\n",
    "# valueA = 4\n",
    "# valueB = 90\n",
    "# valueC = 17\n",
    "# valueB = 13\n",
    "# valueA = 40\n"
   ]
  },
  {
   "cell_type": "code",
   "execution_count": 20,
   "metadata": {},
   "outputs": [
    {
     "name": "stdout",
     "output_type": "stream",
     "text": [
      "straightbrownshort\n"
     ]
    }
   ],
   "source": [
    "type = \"curly\"\n",
    "color = \"brown\"\n",
    "length = \"short\"\n",
    "type = \"straight\"\n",
    "hair = type + color + length\n",
    "print(hair)\n",
    "\n",
    "# type = curly\n",
    "# collor = brown\n",
    "# length = short\n",
    "# type = straight\n",
    "# hair = straight + brown + short"
   ]
  }
 ],
 "metadata": {
  "kernelspec": {
   "display_name": "Python 3.9.12 ('base')",
   "language": "python",
   "name": "python3"
  },
  "language_info": {
   "codemirror_mode": {
    "name": "ipython",
    "version": 3
   },
   "file_extension": ".py",
   "mimetype": "text/x-python",
   "name": "python",
   "nbconvert_exporter": "python",
   "pygments_lexer": "ipython3",
   "version": "3.9.12"
  },
  "varInspector": {
   "cols": {
    "lenName": 16,
    "lenType": 16,
    "lenVar": 40
   },
   "kernels_config": {
    "python": {
     "delete_cmd_postfix": "",
     "delete_cmd_prefix": "del ",
     "library": "var_list.py",
     "varRefreshCmd": "print(var_dic_list())"
    },
    "r": {
     "delete_cmd_postfix": ") ",
     "delete_cmd_prefix": "rm(",
     "library": "var_list.r",
     "varRefreshCmd": "cat(var_dic_list()) "
    }
   },
   "types_to_exclude": [
    "module",
    "function",
    "builtin_function_or_method",
    "instance",
    "_Feature"
   ],
   "window_display": false
  },
  "vscode": {
   "interpreter": {
    "hash": "28458c3363e0f9176e2ccaa5120d29b74c0b7f76862b0de73ce3b6333bd7b675"
   }
  }
 },
 "nbformat": 4,
 "nbformat_minor": 4
}
