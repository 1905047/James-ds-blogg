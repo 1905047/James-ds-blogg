{
 "cells": [
  {
   "cell_type": "markdown",
   "metadata": {},
   "source": [
    "# Lesson Notes"
   ]
  },
  {
   "cell_type": "markdown",
   "metadata": {},
   "source": [
    "### Lesson 5: "
   ]
  },
  {
   "cell_type": "code",
   "execution_count": 3,
   "metadata": {},
   "outputs": [
    {
     "name": "stdout",
     "output_type": "stream",
     "text": [
      "5\n",
      "5\n"
     ]
    }
   ],
   "source": [
    "print(\"5\")\n",
    "\n",
    "varx=int(input(\"3\"))\n",
    "\n",
    "if (varx %2 == 0):\n",
    "     varx == varx/2       # Change print to the function\n",
    "\n",
    "else:\n",
    "    varx == varx * 3 + 1      # Change print to the function\n",
    "\n",
    "print(varx)"
   ]
  },
  {
   "cell_type": "code",
   "execution_count": 4,
   "metadata": {},
   "outputs": [
    {
     "name": "stdout",
     "output_type": "stream",
     "text": [
      "5\n",
      "1.0\n"
     ]
    }
   ],
   "source": [
    "print(\"5\")\n",
    "\n",
    "varx=int(input(\"3\"))\n",
    "\n",
    "while varx != 1:\n",
    "\n",
    "    if (varx %2 == 0):\n",
    "        varx = varx/2       # Change print to the function\n",
    "\n",
    "    else:\n",
    "        varx = varx * 3 + 1      # Change print to the function\n",
    "\n",
    "print(varx)"
   ]
  },
  {
   "cell_type": "code",
   "execution_count": 5,
   "metadata": {},
   "outputs": [
    {
     "name": "stdout",
     "output_type": "stream",
     "text": [
      "5\n",
      "5\n",
      "16\n",
      "8.0\n",
      "4.0\n",
      "2.0\n",
      "1.0\n",
      "1.0\n"
     ]
    }
   ],
   "source": [
    "print(\"5\")\n",
    "\n",
    "varx=int(input(\"3\"))\n",
    "\n",
    "print(varx)\n",
    "while varx != 1:\n",
    "\n",
    "    if (varx %2 == 0):\n",
    "        varx = varx/2       \n",
    "        print(varx)               # add Display\n",
    "    else:\n",
    "        varx = varx * 3 + 1      \n",
    "        print(varx)               # add Display\n",
    "print(varx)                     "
   ]
  },
  {
   "cell_type": "code",
   "execution_count": 6,
   "metadata": {},
   "outputs": [
    {
     "name": "stdout",
     "output_type": "stream",
     "text": [
      "Element is present at index 1\n"
     ]
    }
   ],
   "source": [
    "def BinarySearch(array, x, low, high):\n",
    "\n",
    "    # Repeat until the pointers low and high meet each other \n",
    "    while low <= high:\n",
    "\n",
    "        mid = low + (high - low)//2 # find the middle (taking the higest index number plus the lowest and divided by two)\n",
    "\n",
    "        if array[mid] == x: # if desired number is the middle is found return desired number (middle number) \n",
    "            return mid\n",
    "\n",
    "        elif array[mid] < x: \n",
    "            low = mid + 1\n",
    "\n",
    "        else:\n",
    "            high = mid - 1\n",
    "\n",
    "    return -1\n",
    "\n",
    "\n",
    "array = [3, 4, 5, 6, 7, 8, 9]\n",
    "x = 4\n",
    "\n",
    "result = BinarySearch(array, x, 0, len(array)-1)\n",
    "\n",
    "if result != -1:\n",
    "    print(\"Element is present at index \" + str(result))\n",
    "else:\n",
    "    print(\"Not found\")"
   ]
  },
  {
   "cell_type": "code",
   "execution_count": 51,
   "metadata": {},
   "outputs": [
    {
     "name": "stdout",
     "output_type": "stream",
     "text": [
      "13\n",
      "3\n",
      "18\n"
     ]
    },
    {
     "data": {
      "text/plain": [
       "18"
      ]
     },
     "execution_count": 51,
     "metadata": {},
     "output_type": "execute_result"
    }
   ],
   "source": [
    "import random\n",
    "def roll(n):\n",
    "    list = []\n",
    "\n",
    "    while n > 0:\n",
    "        var = random.randint(1,20)\n",
    "        print(var)\n",
    "        list.append(var)\n",
    "        n -= 1\n",
    "    \n",
    "    return max(list)\n",
    "\n",
    "roll(3)\n",
    "\n"
   ]
  },
  {
   "cell_type": "markdown",
   "metadata": {},
   "source": [
    "### Lesson 6: Calling and Devolping Procedures\n",
    "\n",
    "A procedure is a named group of programming instructions that may have parameters and return values.\n",
    "Procedures are referred to by different names, such as method or function, depending on the programing language.\n",
    "Parameters are input values of a procedure. Arguments specify the values of the parameters when procedure is called.\n",
    "A procedure call interrupts the sequential execution of statements causing the program to execute the statements within the procedure before continuing. One the last statement in the procedure (or a return statement) has executed, flow or control is returned to the point immediately following where the procedure was called.\n",
    "\n",
    "When calling procedures, it's important to take notice to whether it returns data, or a block of statements.\n",
    "If the procedure just returns a block of statements, you call the procedure by referring to the procedure name, and inputting the arguments.\n",
    "If the procedure returns some sort of data like a boolean or value, then you will assign that value to a variable\n",
    "\n",
    "Assume the Temperature outside is Fahrenheit. The procedure convertFahrenheit is intended to convert from Fahrenheit to Celsius.\n",
    "You will need to convert the pseudo code to Python\n",
    "\n",
    "There are 2 different types of procedures- ones that return a value and those that simply execute a block of statements\n",
    "Picking a descriptive name is important in case you revisit the code later on (separate words with capitals)\n",
    "Steps of developing procedure: picking name, thinking of parameters (what data does the procedure need to know), making a flowchart or writing procedure in pseudocode, and actually developing the procedure.\n",
    "\n",
    "One type of abstraction is procedural abstraction which provides a name for a process and allows a procedure to be used only knowing what it does and not how it does it\n",
    "This is very helpful in managing complexity in a program\n",
    "Subdivision of a program into separate subprograms is called modularity\n",
    "A procedural abstraction may extract shared features to generalize functionality instead of duplicating code. This allows for program reuse, which helps manage complexity\n",
    "\n",
    "When a pre-written procedure is called, you don’t necessarily need to know the details of this, just what it does and how to call it\n",
    "Simply, procedural abstraction is naming and calling a prewritten procedure\n",
    "Making sure to include the right arguments so the procedure can do what its supposed to do is crucial\n",
    "\n",
    "\n",
    "\n",
    "\n"
   ]
  },
  {
   "cell_type": "code",
   "execution_count": 62,
   "metadata": {},
   "outputs": [
    {
     "ename": "IndentationError",
     "evalue": "unexpected indent (3814631383.py, line 6)",
     "output_type": "error",
     "traceback": [
      "\u001b[0;36m  Input \u001b[0;32mIn [62]\u001b[0;36m\u001b[0m\n\u001b[0;31m    return celcius\u001b[0m\n\u001b[0m    ^\u001b[0m\n\u001b[0;31mIndentationError\u001b[0m\u001b[0;31m:\u001b[0m unexpected indent\n"
     ]
    }
   ],
   "source": [
    "def convertFahrenheit(temp):\n",
    "  celcius = temp - 32 \n",
    "  celcius = celcius * 5/9\n",
    "\n",
    "\n",
    "   return celcius\n",
    "\n",
    "outsideTemp = input(\"75\")\n",
    "outsideTemp = (convertFahrenheit(int(outsideTemp))) \n",
    "print(outsideTemp)\n"
   ]
  },
  {
   "cell_type": "code",
   "execution_count": null,
   "metadata": {},
   "outputs": [
    {
     "ename": "IndentationError",
     "evalue": "unexpected indent (3814631383.py, line 6)",
     "output_type": "error",
     "traceback": [
      "\u001b[0;36m  Input \u001b[0;32mIn [62]\u001b[0;36m\u001b[0m\n",
      "\u001b[0;31m    return celcius\u001b[0m\n",
      "\u001b[0m    ^\u001b[0m\n",
      "\u001b[0;31mIndentationError\u001b[0m\u001b[0;31m:\u001b[0m unexpected indent\n"
     ]
    }
   ],
   "source": [
    "def convertFahrenheit(temp):\n",
    "  celcius = temp - 32 \n",
    "  celcius = celcius * 5/9\n",
    "\n",
    "\n",
    "   return celcius\n",
    "\n",
    "outsideTemp = input(\"75\")\n",
    "outsideTemp = (convertFahrenheit(int(outsideTemp))) \n",
    "print(outsideTemp)\n"
   ]
  },
  {
   "cell_type": "code",
   "execution_count": 60,
   "metadata": {},
   "outputs": [],
   "source": [
    "def gpa(averge):\n",
    "    period2 = 3\n",
    "    period3 = 4\n",
    "    period4 = 4\n",
    "    period5 = 3\n",
    "    averge = period2 + period3 + period4 + period5/4\n",
    "   \n",
    "   \n",
    "    print(averge)"
   ]
  }
 ],
 "metadata": {
  "kernelspec": {
   "display_name": "Python 3.9.12 ('base')",
   "language": "python",
   "name": "python3"
  },
  "language_info": {
   "codemirror_mode": {
    "name": "ipython",
    "version": 3
   },
   "file_extension": ".py",
   "mimetype": "text/x-python",
   "name": "python",
   "nbconvert_exporter": "python",
   "pygments_lexer": "ipython3",
   "version": "3.9.12"
  },
  "varInspector": {
   "cols": {
    "lenName": 16,
    "lenType": 16,
    "lenVar": 40
   },
   "kernels_config": {
    "python": {
     "delete_cmd_postfix": "",
     "delete_cmd_prefix": "del ",
     "library": "var_list.py",
     "varRefreshCmd": "print(var_dic_list())"
    },
    "r": {
     "delete_cmd_postfix": ") ",
     "delete_cmd_prefix": "rm(",
     "library": "var_list.r",
     "varRefreshCmd": "cat(var_dic_list()) "
    }
   },
   "types_to_exclude": [
    "module",
    "function",
    "builtin_function_or_method",
    "instance",
    "_Feature"
   ],
   "window_display": false
  },
  "vscode": {
   "interpreter": {
    "hash": "28458c3363e0f9176e2ccaa5120d29b74c0b7f76862b0de73ce3b6333bd7b675"
   }
  }
 },
 "nbformat": 4,
 "nbformat_minor": 4
}
